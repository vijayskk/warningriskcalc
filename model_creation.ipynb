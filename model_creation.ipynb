{
 "cells": [
  {
   "cell_type": "code",
   "execution_count": 44,
   "id": "382a0a9b",
   "metadata": {},
   "outputs": [],
   "source": [
    "import pandas as pd\n",
    "import numpy as np\n",
    "import nltk"
   ]
  },
  {
   "cell_type": "code",
   "execution_count": 45,
   "id": "347e51a4",
   "metadata": {},
   "outputs": [],
   "source": [
    "#nltk.download_shell()"
   ]
  },
  {
   "cell_type": "code",
   "execution_count": 46,
   "id": "cc75faa0",
   "metadata": {},
   "outputs": [
    {
     "data": {
      "text/html": [
       "<div>\n",
       "<style scoped>\n",
       "    .dataframe tbody tr th:only-of-type {\n",
       "        vertical-align: middle;\n",
       "    }\n",
       "\n",
       "    .dataframe tbody tr th {\n",
       "        vertical-align: top;\n",
       "    }\n",
       "\n",
       "    .dataframe thead th {\n",
       "        text-align: right;\n",
       "    }\n",
       "</style>\n",
       "<table border=\"1\" class=\"dataframe\">\n",
       "  <thead>\n",
       "    <tr style=\"text-align: right;\">\n",
       "      <th></th>\n",
       "      <th>message</th>\n",
       "      <th>risk_level</th>\n",
       "      <th>rl</th>\n",
       "    </tr>\n",
       "  </thead>\n",
       "  <tbody>\n",
       "    <tr>\n",
       "      <th>0</th>\n",
       "      <td>Warning: File not found</td>\n",
       "      <td>low</td>\n",
       "      <td>1</td>\n",
       "    </tr>\n",
       "    <tr>\n",
       "      <th>1</th>\n",
       "      <td>Error: Division by zero</td>\n",
       "      <td>high</td>\n",
       "      <td>3</td>\n",
       "    </tr>\n",
       "    <tr>\n",
       "      <th>2</th>\n",
       "      <td>Warning: Deprecated function used</td>\n",
       "      <td>medium</td>\n",
       "      <td>2</td>\n",
       "    </tr>\n",
       "    <tr>\n",
       "      <th>3</th>\n",
       "      <td>Error: Out of memory</td>\n",
       "      <td>high</td>\n",
       "      <td>3</td>\n",
       "    </tr>\n",
       "    <tr>\n",
       "      <th>4</th>\n",
       "      <td>Warning: Unused variable 'x'</td>\n",
       "      <td>low</td>\n",
       "      <td>1</td>\n",
       "    </tr>\n",
       "    <tr>\n",
       "      <th>...</th>\n",
       "      <td>...</td>\n",
       "      <td>...</td>\n",
       "      <td>...</td>\n",
       "    </tr>\n",
       "    <tr>\n",
       "      <th>1207</th>\n",
       "      <td>Error: Database connection aborted</td>\n",
       "      <td>high</td>\n",
       "      <td>3</td>\n",
       "    </tr>\n",
       "    <tr>\n",
       "      <th>1208</th>\n",
       "      <td>Warning: Unreachable code detected</td>\n",
       "      <td>low</td>\n",
       "      <td>1</td>\n",
       "    </tr>\n",
       "    <tr>\n",
       "      <th>1209</th>\n",
       "      <td>Error: Unable to find configuration file</td>\n",
       "      <td>medium</td>\n",
       "      <td>2</td>\n",
       "    </tr>\n",
       "    <tr>\n",
       "      <th>1210</th>\n",
       "      <td>Warning: Unused function 'quux'</td>\n",
       "      <td>low</td>\n",
       "      <td>1</td>\n",
       "    </tr>\n",
       "    <tr>\n",
       "      <th>1211</th>\n",
       "      <td>Error: Floating-point underflow</td>\n",
       "      <td>high</td>\n",
       "      <td>3</td>\n",
       "    </tr>\n",
       "  </tbody>\n",
       "</table>\n",
       "<p>1212 rows × 3 columns</p>\n",
       "</div>"
      ],
      "text/plain": [
       "                                       message risk_level  rl\n",
       "0                      Warning: File not found        low   1\n",
       "1                      Error: Division by zero       high   3\n",
       "2            Warning: Deprecated function used     medium   2\n",
       "3                         Error: Out of memory       high   3\n",
       "4                 Warning: Unused variable 'x'        low   1\n",
       "...                                        ...        ...  ..\n",
       "1207        Error: Database connection aborted       high   3\n",
       "1208        Warning: Unreachable code detected        low   1\n",
       "1209  Error: Unable to find configuration file     medium   2\n",
       "1210           Warning: Unused function 'quux'        low   1\n",
       "1211           Error: Floating-point underflow       high   3\n",
       "\n",
       "[1212 rows x 3 columns]"
      ]
     },
     "execution_count": 46,
     "metadata": {},
     "output_type": "execute_result"
    }
   ],
   "source": [
    "df = pd.read_csv('processed_data.csv',index_col=0)\n",
    "df"
   ]
  },
  {
   "cell_type": "code",
   "execution_count": 47,
   "id": "812af165",
   "metadata": {},
   "outputs": [],
   "source": [
    "from sklearn.feature_extraction.text import CountVectorizer"
   ]
  },
  {
   "cell_type": "code",
   "execution_count": 48,
   "id": "f70aa7cd",
   "metadata": {},
   "outputs": [],
   "source": [
    "bow_transformer = CountVectorizer().fit(df['message'])"
   ]
  },
  {
   "cell_type": "code",
   "execution_count": 49,
   "id": "8dc9b873",
   "metadata": {},
   "outputs": [
    {
     "name": "stdout",
     "output_type": "stream",
     "text": [
      "{'warning': 143, 'file': 44, 'not': 82, 'found': 52, 'error': 37, 'division': 31, 'by': 10, 'zero': 145, 'deprecated': 26, 'function': 55, 'used': 138, 'out': 88, 'of': 85, 'memory': 75, 'unused': 136, 'variable': 141, 'invalid': 67, 'command': 14, 'possible': 102, 'null': 83, 'pointer': 101, 'dereference': 27, 'disk': 30, 'full': 54, 'foo': 49, 'is': 68, 'defined': 23, 'connection': 17, 'timed': 125, 'insecure': 63, 'password': 95, 'detected': 28, 'syntax': 123, 'in': 58, 'line': 71, '42': 0, 'uninitialized': 133, 'database': 22, 'failed': 43, 'unreachable': 134, 'code': 13, 'unable': 131, 'to': 127, 'open': 86, 'output': 89, 'bar': 6, 'stack': 120, 'overflow': 90, 'import': 57, 'statement': 121, 'input': 62, 'format': 51, 'potential': 103, 'leak': 69, 'network': 80, 'unrecognized': 135, 'option': 87, 'permission': 97, 'denied': 25, 'never': 81, 'query': 105, 'empty': 33, 'catch': 11, 'block': 8, 'implicit': 56, 'conversion': 18, 'from': 53, 'float': 47, 'int': 65, 'missing': 76, 'required': 112, 'argument': 4, 'escape': 38, 'sequence': 117, 'space': 119, 'buffer': 9, 'lost': 74, 'read': 109, 'configuration': 16, 'baz': 7, 'integer': 66, 'reset': 113, 'inconsistent': 59, 'endings': 36, 'value': 140, 'qux': 108, 'assignment': 5, 'data': 21, 'type': 130, 'timeout': 126, 'locate': 73, 'shared': 118, 'library': 70, 'quux': 107, 'floating': 48, 'point': 100, 'underflow': 132, 'redundant': 110, 'parentheses': 93, 'write': 144, 'foobar': 50, 'allocation': 3, 'user': 139, 'resource': 114, 'refused': 111, 'insufficient': 64, 'permissions': 98, 'finally': 45, 'path': 96, 'parameter': 92, 'character': 12, 'encoding': 34, 'quota': 106, 'exceeded': 39, 'terminated': 124, 'parse': 94, 'negative': 79, 'number': 84, 'indentation': 60, 'url': 137, 'param': 91, 'swap': 122, 'aborted': 1, 'find': 46, 'semicolon': 116, 'delete': 24, 'security': 115, 'vulnerability': 142, 'execution': 40, 'try': 129, 'extension': 42, 'double': 32, 'transaction': 128, 'load': 72, 'plugin': 99, 'nan': 78, 'communication': 15, 'protocol': 104, 'create': 19, 'directory': 29, 'encountered': 35, 'naming': 77, 'infinity': 61, 'cryptographic': 20, 'algorithm': 2, 'exhaustion': 41}\n"
     ]
    }
   ],
   "source": [
    "print(bow_transformer.vocabulary_)"
   ]
  },
  {
   "cell_type": "code",
   "execution_count": 50,
   "id": "977b86fe",
   "metadata": {},
   "outputs": [],
   "source": [
    "mess_bow = bow_transformer.transform(df['message'])"
   ]
  },
  {
   "cell_type": "code",
   "execution_count": 51,
   "id": "a505288c",
   "metadata": {},
   "outputs": [],
   "source": [
    "from sklearn.feature_extraction.text import TfidfTransformer\n",
    "tfidf_transformer = TfidfTransformer().fit(mess_bow)"
   ]
  },
  {
   "cell_type": "code",
   "execution_count": 52,
   "id": "50fb5655",
   "metadata": {},
   "outputs": [],
   "source": [
    "mess_tfidf = tfidf_transformer.transform(mess_bow)"
   ]
  },
  {
   "cell_type": "code",
   "execution_count": 53,
   "id": "5d6dc7bc",
   "metadata": {},
   "outputs": [],
   "source": [
    "from sklearn.naive_bayes import MultinomialNB\n",
    "model = MultinomialNB().fit(mess_tfidf,df['risk_level'])"
   ]
  },
  {
   "cell_type": "code",
   "execution_count": 54,
   "id": "2b7fe86b",
   "metadata": {},
   "outputs": [],
   "source": [
    "bow4 = bow_transformer.transform([\"Unused variable\"])"
   ]
  },
  {
   "cell_type": "code",
   "execution_count": 55,
   "id": "73a89a91",
   "metadata": {},
   "outputs": [
    {
     "data": {
      "text/plain": [
       "<1x146 sparse matrix of type '<class 'numpy.int64'>'\n",
       "\twith 2 stored elements in Compressed Sparse Row format>"
      ]
     },
     "execution_count": 55,
     "metadata": {},
     "output_type": "execute_result"
    }
   ],
   "source": [
    "bow4"
   ]
  },
  {
   "cell_type": "code",
   "execution_count": 56,
   "id": "d1d95db8",
   "metadata": {},
   "outputs": [],
   "source": [
    "tfidf4 = tfidf_transformer.transform(bow4)"
   ]
  },
  {
   "cell_type": "code",
   "execution_count": 57,
   "id": "7d2b18a4",
   "metadata": {},
   "outputs": [
    {
     "data": {
      "text/plain": [
       "array(['low'], dtype='<U6')"
      ]
     },
     "execution_count": 57,
     "metadata": {},
     "output_type": "execute_result"
    }
   ],
   "source": [
    "model.predict(tfidf4)"
   ]
  },
  {
   "cell_type": "markdown",
   "id": "959a6d79",
   "metadata": {},
   "source": [
    "## Here we make a function to do the prediction"
   ]
  },
  {
   "cell_type": "code",
   "execution_count": 61,
   "id": "ae4e6169",
   "metadata": {},
   "outputs": [],
   "source": [
    "def findRisk(messages):\n",
    "    bown = bow_transformer.transform(messages)\n",
    "    tfidfn = tfidf_transformer.transform(bown)\n",
    "    return model.predict(tfidfn)"
   ]
  },
  {
   "cell_type": "code",
   "execution_count": 62,
   "id": "c15e40f1",
   "metadata": {},
   "outputs": [
    {
     "data": {
      "text/plain": [
       "array(['high'], dtype='<U6')"
      ]
     },
     "execution_count": 62,
     "metadata": {},
     "output_type": "execute_result"
    }
   ],
   "source": [
    "findRisk([\"Connection lost\"])"
   ]
  },
  {
   "cell_type": "markdown",
   "id": "e57b1086",
   "metadata": {},
   "source": [
    "## We have to save objects for future use"
   ]
  },
  {
   "cell_type": "code",
   "execution_count": 65,
   "id": "3abb15dc",
   "metadata": {},
   "outputs": [
    {
     "data": {
      "text/plain": [
       "['saves/tfidf_transformer.joblib']"
      ]
     },
     "execution_count": 65,
     "metadata": {},
     "output_type": "execute_result"
    }
   ],
   "source": [
    "import joblib\n",
    "\n",
    "# we have to save \n",
    "# 1. bow_transformer\n",
    "# 2. tfidf_transformer\n",
    "# 3. model\n",
    "\n",
    "joblib.dump(model,'saves/model.joblib')\n",
    "joblib.dump(bow_transformer,'saves/bow_transformer.joblib')\n",
    "joblib.dump(tfidf_transformer,'saves/tfidf_transformer.joblib')\n",
    "\n"
   ]
  }
 ],
 "metadata": {
  "kernelspec": {
   "display_name": "Python 3 (ipykernel)",
   "language": "python",
   "name": "python3"
  },
  "language_info": {
   "codemirror_mode": {
    "name": "ipython",
    "version": 3
   },
   "file_extension": ".py",
   "mimetype": "text/x-python",
   "name": "python",
   "nbconvert_exporter": "python",
   "pygments_lexer": "ipython3",
   "version": "3.11.3"
  }
 },
 "nbformat": 4,
 "nbformat_minor": 5
}
